{
 "cells": [
  {
   "cell_type": "markdown",
   "metadata": {},
   "source": [
    "Project 4: Natural Language Processing and Unsupervised Learning<br/>\n",
    "\n",
    "In this notebook, I try to do the following techniques on my reddit r/medicine 2020 post data:\n",
    "* PCA\n",
    "* tSNE\n",
    "* kMeans Clustering"
   ]
  },
  {
   "cell_type": "markdown",
   "metadata": {},
   "source": [
    "# Table of Contents\n",
    "1. [Imports](#section1)\n",
    "2. [Getting Post Data from SQL Database](#section2)\n",
    "3. [PCA & tSNE](#section3)\n",
    "4. [kMeans Clustering](#section4)"
   ]
  },
  {
   "cell_type": "markdown",
   "metadata": {},
   "source": [
    "<a id='section1'></a>"
   ]
  },
  {
   "cell_type": "markdown",
   "metadata": {},
   "source": [
    "### 1. Imports"
   ]
  },
  {
   "cell_type": "code",
   "execution_count": 75,
   "metadata": {},
   "outputs": [],
   "source": [
    "# standard imports\n",
    "import pandas as pd\n",
    "import numpy as np\n",
    "import matplotlib.pyplot as plt\n",
    "import seaborn as sns\n",
    "import pickle\n",
    "%matplotlib inline\n",
    "\n",
    "# imports for accessing SQL database\n",
    "import psycopg2 as pg\n",
    "\n",
    "# for text preprocessing\n",
    "import re\n",
    "from sklearn.feature_extraction.text import TfidfVectorizer\n",
    "\n",
    "# for PCA\n",
    "from sklearn.decomposition import PCA\n",
    "from sklearn.decomposition import TruncatedSVD\n",
    "\n",
    "# for kMeans Clustering\n",
    "from sklearn.cluster import KMeans\n",
    "from sklearn.cluster import MiniBatchKMeans\n",
    "\n",
    "# for tSNE\n",
    "from sklearn.manifold import TSNE\n",
    "from itertools import cycle"
   ]
  },
  {
   "cell_type": "markdown",
   "metadata": {},
   "source": [
    "<a id='section2'></a>"
   ]
  },
  {
   "cell_type": "markdown",
   "metadata": {},
   "source": [
    "### 2. Getting Post Data from SQL Database"
   ]
  },
  {
   "cell_type": "code",
   "execution_count": 2,
   "metadata": {},
   "outputs": [],
   "source": [
    "# Postgres info to connect\n",
    "\n",
    "connection_args = {\n",
    "                   'host': 'localhost', # we are connecting to our local version of psql\n",
    "                   'dbname': 'reddit_medicine', # DB we are connecting to\n",
    "                   'port': 5432, # port we opened\n",
    "                   'password': '',\n",
    "                   'user': 'postgres'\n",
    "                   }"
   ]
  },
  {
   "cell_type": "code",
   "execution_count": 3,
   "metadata": {},
   "outputs": [],
   "source": [
    "def connect_to_postgres(connection_args):\n",
    "    '''\n",
    "    Connect to PostgreSQL database\n",
    "    Inputs:\n",
    "    - connection_args: parameters to connect to psql db\n",
    "    Output:\n",
    "    - connection: connection to the psql db\n",
    "    '''\n",
    "    connection = None\n",
    "    try:\n",
    "        connection = pg.connect(**connection_args)\n",
    "    except (Exception, pg.DatabaseError) as error:\n",
    "        print(error)\n",
    "    \n",
    "    return connection"
   ]
  },
  {
   "cell_type": "code",
   "execution_count": 4,
   "metadata": {},
   "outputs": [],
   "source": [
    "connection = connect_to_postgres(connection_args)"
   ]
  },
  {
   "cell_type": "code",
   "execution_count": 5,
   "metadata": {},
   "outputs": [],
   "source": [
    "# exclude megathreads with repetitive post titles and submissions\n",
    "reddit_query = \"SELECT * FROM submissions \\\n",
    "                WHERE title NOT LIKE 'Megathread:%' \\\n",
    "                AND title NOT LIKE 'Megathread #%' \\\n",
    "                AND title NOT LIKE 'Weekly Careers Thread';\"\n",
    "\n",
    "reddit_df = pd.read_sql(reddit_query, connection)\n",
    "connection.close()"
   ]
  },
  {
   "cell_type": "code",
   "execution_count": 6,
   "metadata": {},
   "outputs": [],
   "source": [
    "reddit_df[\"full_text\"] = reddit_df[\"title\"] + ' ' + reddit_df[\"submission_text\"]"
   ]
  },
  {
   "cell_type": "markdown",
   "metadata": {},
   "source": [
    "<a id='section3'></a>"
   ]
  },
  {
   "cell_type": "markdown",
   "metadata": {},
   "source": [
    "### 3. PCA & tSNE"
   ]
  },
  {
   "cell_type": "code",
   "execution_count": 10,
   "metadata": {},
   "outputs": [],
   "source": [
    "# in order to do PCA, I should clean my data first!\n",
    "def my_cleaning_function(text, regex_patterns, char_space, char_no_space, abbrev_dict):\n",
    "    '''\n",
    "    Inputs:\n",
    "    - text (string): string of reddit posts\n",
    "    - regex_patterns (list): list of regex patterns to remove\n",
    "    - char_space (string): characters to replace with a space\n",
    "    - char_no_space (string): characters to replace with no space\n",
    "    - abbrev_dict (dict): dictionary to replace abbreviations with full words\n",
    "    Outputs:\n",
    "    - cleaned_text (string): cleaned string of reddit posts\n",
    "    '''\n",
    "    \n",
    "    cleaned_text = []\n",
    "    \n",
    "    for post in text:\n",
    "        \n",
    "        for pattern in regex_patterns:\n",
    "            post = re.sub(pattern, ' ', post)\n",
    "    \n",
    "        for char in char_space:\n",
    "            post = post.replace(char, ' ')\n",
    "    \n",
    "        for char in char_no_space:\n",
    "            post = post.replace(char, '')\n",
    "        \n",
    "        for key in abbrev_dict.keys():\n",
    "            post = post.replace(key, ' ' + abbrev_dict[key] + ' ')\n",
    "    \n",
    "        post = post.lower()\n",
    "        \n",
    "        cleaned_text.append(post)\n",
    "    \n",
    "    return cleaned_text"
   ]
  },
  {
   "cell_type": "code",
   "execution_count": 11,
   "metadata": {},
   "outputs": [],
   "source": [
    "# for my cleaning function\n",
    "regex_patterns = ['\\n', '\\t', r'https?:\\/\\/\\S+', r'&\\S*', r'\\xa0', r'[__]{2,}', r'[\\d]+', 'χ', '®']\n",
    "char_space = '^*>|[]()\",°#.:%?'\n",
    "char_no_space = '/-\\\\'\n",
    "abbrev_dict = {\"MD\": \"doctor_of_medicine\",\n",
    "               \"MPH\": \"master_of_public_health\",\n",
    "               \"MBA\": \"master_of_business_administrationi\",\n",
    "               \"NP\": \"nurse_practitioner\",\n",
    "               \"PA\": \"physician_assistant\",\n",
    "               \"RN\": \"registered_nurse\",\n",
    "               \"DVM\": \"doctor_of_veterinary_medicine\",\n",
    "               \"DDS\": \"doctor_of_dentistry\",\n",
    "               \"DO\": \"doctor_of_osteopathy\",\n",
    "               \"ICU\": \"intensive_care_unit\",\n",
    "               \"ER\": \"emergency_room\",\n",
    "               \"ED\": \"emergency_department\",\n",
    "               \"EMS\": \"emergency_medical_services\",\n",
    "               \"EMR\": \"electronic_medical_records\",\n",
    "               \"CFR\": \"case_fatality_rate\",\n",
    "               \"CT\": \"computed_tomography\",\n",
    "               \"CDC\": \"centers_for_disease_control\",\n",
    "               \"WHO\": \"world_health_organization\",\n",
    "               \"FDA\": \"food_and_drug_administration\",\n",
    "               \"SARS\": \"severe_acute_respiratory_syndrome\",\n",
    "               \"MERS\": \"middle_east_respiratory_syndrome\",\n",
    "               \"ARDS\": \"acute_respiratory_distress_syndrome\",\n",
    "               \"SOM\": \"school_of_medicine\",\n",
    "               \"COVID\": \"covid\", # make sure the word covid is distinct\n",
    "               \"N95\": \"n_ninety_fifty\", # make sure n-95 masks are distinct words\n",
    "               \"PPE\": \"personal_protective_equipment\"\n",
    "               }"
   ]
  },
  {
   "cell_type": "code",
   "execution_count": 12,
   "metadata": {},
   "outputs": [],
   "source": [
    "cleaned_text = my_cleaning_function(reddit_df[\"full_text\"], regex_patterns, char_space, char_no_space, abbrev_dict)"
   ]
  },
  {
   "cell_type": "code",
   "execution_count": 13,
   "metadata": {},
   "outputs": [
    {
     "data": {
      "text/plain": [
       "['testimony of a surgeon working in bergamo  in the heart of italys coronavirus outbreak «in one of the nonstop emails that i receive from my hospital administration on a more than daily basis  there was a paragraph on  how to be responsible on social media   with some recommendations that we all can agree on  after thinking for a long time if and what to write about whats happening here  i felt that silence was not responsible  i will therefore try to convey to laypeople  those who are more distant from our reality  what we are experiencing in bergamo during these covid  pandemic days  i understand the need not to panic  but when the message of the danger of what is happening is not out  and i still see people ignoring the recommendations and people who gather together complaining that they cannot go to the gym or play soccer tournaments  i shiver  i also understand the economic damage and i am also worried about that  after this epidemic  it will be hard to start over   still  beside the fact that we are also devastating our national health system from an economic point of view  i want to point out that the public health damage that is going to invest the country is more important and i find it nothing short of  chilling  that new quarantine areas requested by the region has not yet been established for the municipalities of alzano lombardo and nembro  i would like to clarify that this is purely personal opinion   i myself looked with some amazement at the reorganization of the entire hospital in the previous week  when our current enemy was still in the shadows  the wards slowly  emptied   elective activities interrupted  intensive care unit freed to create as many beds as possible  containers arriving in front of the emergency room to create diversified routes and avoid infections  all this rapid transformation brought in the hallways of the hospital an atmosphere of surreal silence and emptiness that we did not understand  waiting for a war that had yet to begin and that many  including me  were not so sure would never come with such ferocity  i open a parenthesis  all this was done in the shadows  and without publicity  while several newspapers had the courage to say that private health care was not doing anything    i still remember my night shift a week ago spent without any rest  waiting for a call from the microbiology department  i was waiting for the results of a swab taken from the first suspect case in our hospital  thinking about what consequences it would have for us and the hospital  if i think about it  my agitation for one possible case seems almost ridiculous and unjustified  now that i have seen what is happening  well  the situation is now nothing short of dramatic  no other words come to mind  the war has literally exploded and battles are uninterrupted day and night  one after the other  these unfortunate people come to the emergency room  they have far from the complications of a flu  lets stop saying its a bad flu  in my two years working in bergamo  i have learned that the people here do not come to the emergency room for no reason  they did well this time too  they followed all the recommendations given  a week or ten days at home with a fever without going out to prevent contagion  but now they cant take it anymore  they dont breathe enough  they need oxygen  drug therapies for this virus are few   the course mainly depends on our organism  we can only support it when it cant take it anymore  it is mainly hoped that our body will eradicate the virus on its own  lets face it  antiviral therapies are experimental on this virus and we learn its behavior day after day  staying at home until the symptoms worsen does not change the prognosis of the disease  now  however  that need for beds in all its drama has arrived  one after another  the departments that had been emptied are filling up at an impressive rate  the display boards with the names of the sicks  of different colors depending on the department they belong to  are now all red and instead of the surgical procedure  there is the diagnosis  which is always the same  bilateral interstitial pneumonia  now  tell me which flu virus causes such a rapid tragedy   because thats the difference  now i get a little technical   in classical flu  besides that it infects much less population over several months  cases are complicated less frequently  only when the virus has destroyed the protective barriers of our airways and as such it allows bacteria  which normally resident in the upper airways  to invade the bronchi and lungs  causing a more serious disease  covid   causes a banal flu in many young people  but in many elderly people  and not only  a real  severe_acute_respiratory_syndrome  because it invades the alveoli of the lungs directly  and it infects them making them unable to perform their function  the resulting respiratory failure is often serious and after a few days of hospitalization  the simple oxygen that can be administered in a ward may not be enough  sorry  but to me  as a doctor  its not reassuring that the most serious are mainly elderly people with other pathologies  the elderly population is the most represented in our country and it is difficult to find someone who  above   years of age  does not take at least a pill for high blood pressure or diabetes   i can also assure you that when you see young people who end up intubated in the  intensive_care_unit   pronated or worse  in ecmo  a machine for the worst cases  which extracts the blood  reoxygenates it and returns it to the body  waiting for the lungs to hopefully heal   all this confidence for your young age goes away  and while there are still people on social media who boast of not being afraid by ignoring the recommendations  protesting that their normal lifestyle habits have  temporarily  halted  the epidemiological disaster is taking place  and there are no more surgeons  urologists  orthopedists  we are only doctors who suddenly become part of a single team to face this tsunami that has overwhelmed us   the cases multiply  up to a rate of    hospitalizations a day all for the same reason  the results of the swabs now come one after the other  positive  positive  positive  suddenly the emergency room is collapsing  emergency provisions are issued  help is needed in the emergency room  a quick meeting to learn how the to use to emergency room ehr and a few minutes later im already downstairs  next to the warriors on the war front  the screen of the pc with the chief complaint is always the same  fever and respiratory difficulty  fever and cough  respiratory insufficiency etc     exams  radiology always with the same sentence  bilateral interstitial pneumonia  all needs to be hospitalized  some already needs to be intubated  and goes to the  intensive_care_unit   for others  however  it is late   intensive_care_unit  is full  and when  intensive_care_unit s are full  more are created  each ventilator is like gold  those in the operating rooms that have now suspended their nonurgent activity are used and the or become a an  intensive_care_unit  that did not exist before  i found it amazing  or at least i can speak for humanitas gavazzeni  where i work   how it was possible to put in place in such a short time a deployment and a reorganization of resources so finely designed to prepare for a disaster of this magnitude  and every reorganization of beds  wards  staff  work shifts and tasks is constantly reviewed day after day to try to give everything and even more  those wards that previously looked like ghosts are now saturated  ready to try to give their best for the sick  but exhausted  the staff is exhausted  i saw fatigue on faces that didnt know what it was despite the already grueling workloads they had  i have seen people still stop beyond the times they used to stop already  for overtime that was now habitual  i saw solidarity from all of us  who never failed to go to our internist colleagues to ask  what can i do for you now   or  leave that admission to me  i will take care of it   doctors who move beds and transfer patients  who administer therapies instead of nurses  nurses with tears in their eyes because we are unable to save everyone and the vital signs of several patients at the same time reveal an already marked destiny  there are no more shifts  schedules   social life is suspended for us  i have been separated for a few months  and i assure you that i have always done my best to constantly see my son even on the day after a night shift  without sleeping and postponing sleep until when i am without him  but for almost   weeks i have voluntarily not seen neither my son nor my family members for fear of infecting them and in turn infecting an elderly grandmother or relatives with other health problems  im happy with some photos of my son that i look at between tears and a few video calls  so you should be patient too  you cant go to the theater  museums or gym  try to have mercy on that myriad of older people you could exterminate  it is not your fault  i know  but of those who put it in your head that you are exaggerating and even this testimony may seem just an exaggeration for those who are far from the epidemic  but please  listen to us  try to leave the house only to indispensable things  do not go en masse to make stocks in supermarkets  it is the worst thing because you concentrate and the risk of contacts with infected people who do not know they are infected  you can go there without a rush  maybe if you have a normal mask  even those that are used to do certain manual work   put it on  dont look for ffp  or ffp   those should serve us and we are beginning to struggle to find them  by now we have had to optimize their use only in certain circumstances  as the  world_health_organization  recently recommended in view of their almost ubiquitous running low  oh yes  thanks to the shortage of certain protection devices  many colleagues and i are certainly exposed despite all the other means of protection we have  some of us have already become infected despite the protocols  some infected colleagues also have infected relatives and some of their family members are already struggling between life and death  we are where your fears could make you stay away  try to make sure you stay away   tell your family members who are elderly or with other illnesses to stay indoors  bring him the groceries please  we have no alternative  its our job  indeed what i do these days is not really the job im used to  but i do it anyway and i will like it as long as it responds to the same principles  try to make some sick people feel better and heal  or even just alleviate the suffering and the pain to those who unfortunately cannot heal  i dont spend a lot of words about the people who define us heroes these days and who until yesterday were ready to insult and report us  both will return to insult and report as soon as everything is over  people forget everything quickly  and were not even heroes these days  its our job  we risked something bad every day before  when we put our hands in a belly full of someones blood we dont even know if they have hiv or hepatitis c; when we do it even though we know they have hiv or hepatitis c; when we stick ourselves during an operation on a patient with hiv and take the drugs that make us vomit all day long for a month  when we read with anguish the results of the blood tests after an accidental needlestick  hoping not to be infected  we simply earn our living with something that gives us emotions  it doesnt matter if they are beautiful or ugly  we just take them home  in the end we only try to make ourselves useful for everyone  now try to do it too  though  with our actions we influence the life and death of a few dozen people  you with yours  many more  please share and share the message  we need to spread the word to prevent what is happening here from happening all over italy »    source   ',\n",
       " 'i posted a while back seeking a clinical portrait from those caring for  covid   pts  and found a detailed one today from evergreen  please disseminate  esp to  intensive_care_unit  physician_assistant cu emergency_department  staff  got this being passed around my circle of physician coworkers    somewhat interesting  although for most readers a lot of the medical jargon may be difficult to pick up   this is from a frontline  intensive_care_unit  physician in a seattle hospital  this is his personal account     we have   pts and   deaths since        we are seeing pts who are young   s   fit  no comorbidities  critically ill  it does happen     us has been past containment since january    currently  all of  intensive_care_unit  is for critically ill  covid s  all of floor medsurg for stable  covid s and eol care  half of pcu  half of  emergency_room   new respsx pts pulmonary clinic offshoot is open     centers_for_disease_control  is no longer imposing home quarantine on providers who were wearing only droplet iso  personal_protective_equipment  when intubating  suctioning  bronching  and in one case doing bloody neurosurgery  expect when it comes to your place you may initially have staff homequarantined  plan for this now  consider wearing airborne iso  personal_protective_equipment  for aerosolgenerating procedures in any pt in whom you suspect  covid   just to prevent the mass quarantines     we ran out of n s  thanks  costco hoarders  and are bleaching and reusing  physician_assistant prs  which is not the manufacturers recommendation  not surprised on n s as we use mostly caprs anyway  but still    terminal cleans  inc uv light  for  emergency_room   covid  rooms are taking forever  enviro services is overwhelmed  bad as pts are stuck coughing in the waiting room  rec planning now for enviro upstaffing  or having a plan for sick pts to wait in their cars  that is not legal here  sadly      clinical info based on our cases and info from  centers_for_disease_control  conf call today with other  covid  providers in us     the chinese data on    mildly ill     hospitalill      critically ill are generally on the mark  data very skewed by late and very limited testing  and the number of our elderly pts going to comfort care   being young   healthy  zero medical problems  does not rule out becoming vented or dead  probably the time course to developing significant lower resp sx is about a week or longer  which also fits with timing of sick cases we started seeing here  after we all assumed it was endemic as of late janearly feb    based on our hospitalized cases  including the not formally diagnosed ones who are obviously  covid   it is quite clinically unique  about    have mild lower resp sx  need   l nc     are sicker  fm or nrb     tubed with  acute_respiratory_distress_syndrome   thus far  everyone is seeing   nl wbc  almost always lymphopenic  occasionally polypredominant but with nl total wbc  doesnt change  even  days in   bal lymphocytic despite blood lymphopenic  try not to bronch these pts; this data is from pretesting time when we had several idiopathic  acute_respiratory_distress_syndrome  cases   fevers  often high  may be intermittent; persistently febrile  often for   it isnt the dexmed  its the  severe_acute_respiratory_syndrome     low procalc; may be useful to check initially for later trending if later concern for vap etc   up astalt  sometimes alk phos  usually in    range  no fulminant hepatitis  notably  in our small sample  higher transaminitis at admit      correlates with clinical deterioration and progression to  acute_respiratory_distress_syndrome   lfts typically begin to bump in  nd week of clinical course   mild aki  cr   uncertain if direct viral effect  but notably  severe_acute_respiratory_syndrome    registered_nurse a fragments have been identified in liver  kidneys  heart  and blood     characteristic cxr always bilateral patchy or reticular infiltrates  sometimes perihilar despite nl ef and volume down at presentation  at time of presentation may be subtle  but always present  even in our pts on chronic high dose steroids  no effusions   computed_tomography  is as expected  rarely mild mediastinal lad  occ small effusions late in course which might be related to volume statuscap leak     note  china is  computed_tomography ing everyone  even outpts  as a primarily diagnostic modality  however  in useurope   computed_tomography  is rare  since findings are nonspecific  would not change management  and the entire scanner and room have to terminalcleaned  which is just impossible in a busy hospital  also  transport in  physician_assistant prs  etc    of our pts had  computed_tomography s for idiopathic  acute_respiratory_distress_syndrome  in the pretest era; they looked like the  computed_tomography s in the journal articles  not more helpful than cxr   when resp failure occurs  it is rapid  likely   d out from sx onset  but rapid progression from hospital admit   common scenario for our pts is  admit  l nc  next  hrs    nurse_practitioner pv  next   hrs   ventpronedflolan   interestingly  despite some needing flolan  the hypoxia is not as refractory as with h n   quite different  and quite unique  odd enough that youd notice and say hmmm   thus far many are dying of cardiac arrest rather than inability to ventilateoxygenate   given the inevitable rapid progression to ett once resp decompensation begins  we and other hosps  including wuhan  are doing early intubation  facemask is fine  but if needing hfnc or  nurse_practitioner pv just tube them  they definitely will need a tube anyway    no point risking the aerosols   no mosf  theres the mild astalt elevation  maybe a small cr bump  but no florid failure  except cardiomyopathy   multiple pts here have had nl ef on formal echo or pocus at time of admit  or in a couple of cases ef  ish  chronically   also nl tpn from  emergency_department   then they get the horrible resp failure  sans sepsis or shock  then they turn the corner  off flolan  supined  vent weaning  looking good  never any pressor requirement  then over  hrs  newly cold  clamped  multiplepressor shock that looks cardiogenic  ef    or less  then either vt  dead or pea  asystole in less than a day  needless to say this is awful for families who had started to have hope   we have actually had more asystole than vt  other facilities report more vtvf  but same time course  a few days or a week after admit  around the time theyre turning the corner  this occurs on medsurg pts too; one today who is elderly and chronically ill but baseline ef preserved  newly hypotn overnight  ef  already no escalation  has since passed  so presumably there is a viral cm aspect  which presents later in the course of dz   of note  no wmas on echo  rv preserved  tpns dont bump  could be unrelated  but ive never seen anything like it before  esp in a pt who had been hd stable without sepsis   treatment    remdesivir might work  some hosps have seen improvement with it quite rapidly  marked improvement in    days   acute_respiratory_distress_syndrome  trajectory is impressive with it  pts improve much more rapidly than expected in usual  acute_respiratory_distress_syndrome     recommended course is  d  but due to scarcity all hosps have stopped it when pt clinically out of the woods  none have continued   it might cause lft bump  but interestingly seem to bump   sish  for a day or   after starting then rapidly back to normal  suggests not a primary toxic hepatitis    unfortunately  the gilead compassionate use and trial programs require astalt   normal  which is pretty much almost no actual  covid  pts  also crcl  which is fine   centers_for_disease_control  is working with gilead to get lft reqs changed now that we know this is a mild viral hepatitis   currently the gilead trial is wrapping up  nih trial still enrolling  some new trial soon to begin cant remember where    steroids are up in the air  in china usual clinical practice for all  acute_respiratory_distress_syndrome  is high dose methylpred  thus  all of their pts have had high dose methylpred  some question whether this practice increases mortality    it is likely that it increases seconday vaphap  china has had a high rate of drug resistant gnr hapvap and fungal pna in these pts  with resulting increases mortality  we have seen none  even in the earlier pts who were vented for   before being bronched  prior to test availability  again it is not a great idea to bronch these pts now     unclear whether vapprevention strategies are also different  but wouldnt think so    hong kong is currently running an uncontrolled trial of hc  iv q     general consensus here  in us among docs who have cared for  covid  pts  is that steroids will do more harm than good  unless needed for other indications    many of our pts have copd on ics  current consensus at evergreen  after some observation   some clinical judgment  is to stop ics if able  based on known data with other viral pneumonias and increased susceptibility to hap  thus far pts are tolerating that  no major issues with ventilating them that cant be managed with vent changes  we also have quite a few on aecopdasthma doses of methylpred  so will be interesting to see how they do ',\n",
       " 'anyone else have colleagues who are still saying  dont panic its just like the flu   i have been trying to raise awareness that our hospital system should take things seriously but ive been met by nonchalance and the attitude that  its not really a big deal  we only have a few cases  its a bad type of flu and most people are recovering etc   its a bit frustrating and im wondering if others are finding this attitude as well     i think us physicians are terrible at following basic hygiene practices  ive seen many physicians go to evaluate flu patients without a mask  not wash hands etc  simple things like this can help as we have limitations on masks etc ',\n",
       " 'latest  centers_for_disease_control  updates  best caseworst case scenarios for  covid   ',\n",
       " ' serious  what is your plan if you or someone in your family get sick  regarding  covid   i am trying to learn from medical colleagues  i read through a reddit qa session by web doctor_of_medicine  panel and learned a lot of practical info          i wish i can ask some followup questions but they answered the questions from a web doctor_of_medicine  account  and i can not ask them by messaging    my question is what to do when you or someone in your household come down with something which has some of the  covid   symptoms but most of these symptoms are nonspecific in nature       would you get tested for  covid    would you wait a few days to see if it gets better  does it matter if the virus is in your county or not  if you are getting the test  i suspect you have suspicion for  covid   and will be isolating that person in some way     if the test is positive  i would follow the management outline described in that web doctor_of_medicine  thread  what if it is negative  do you stop home isolation measures  would you consider retesting if it does not get better after some time   i understand there are no evidencebased answers to these questions  i am trying to learn what educated and experienced professionals would do ']"
      ]
     },
     "execution_count": 13,
     "metadata": {},
     "output_type": "execute_result"
    }
   ],
   "source": [
    "cleaned_text[:5]"
   ]
  },
  {
   "cell_type": "code",
   "execution_count": 20,
   "metadata": {},
   "outputs": [],
   "source": [
    "vectorizer = TfidfVectorizer(min_df=3, max_df=0.7, ngram_range=(2,3), stop_words='english')"
   ]
  },
  {
   "cell_type": "code",
   "execution_count": 21,
   "metadata": {},
   "outputs": [],
   "source": [
    "vectorized_text = vectorizer.fit_transform(cleaned_text)"
   ]
  },
  {
   "cell_type": "code",
   "execution_count": 22,
   "metadata": {},
   "outputs": [
    {
     "data": {
      "text/html": [
       "<div>\n",
       "<style scoped>\n",
       "    .dataframe tbody tr th:only-of-type {\n",
       "        vertical-align: middle;\n",
       "    }\n",
       "\n",
       "    .dataframe tbody tr th {\n",
       "        vertical-align: top;\n",
       "    }\n",
       "\n",
       "    .dataframe thead th {\n",
       "        text-align: right;\n",
       "    }\n",
       "</style>\n",
       "<table border=\"1\" class=\"dataframe\">\n",
       "  <thead>\n",
       "    <tr style=\"text-align: right;\">\n",
       "      <th></th>\n",
       "      <th>aa physician_assistant</th>\n",
       "      <th>able help</th>\n",
       "      <th>able make</th>\n",
       "      <th>able practice</th>\n",
       "      <th>able say</th>\n",
       "      <th>academic center</th>\n",
       "      <th>access care</th>\n",
       "      <th>act like</th>\n",
       "      <th>actual evidence</th>\n",
       "      <th>actual patient</th>\n",
       "      <th>...</th>\n",
       "      <th>years residency</th>\n",
       "      <th>years study</th>\n",
       "      <th>yesterday saw</th>\n",
       "      <th>york city</th>\n",
       "      <th>york day</th>\n",
       "      <th>york times</th>\n",
       "      <th>young doctors</th>\n",
       "      <th>young female</th>\n",
       "      <th>young healthy</th>\n",
       "      <th>young people</th>\n",
       "    </tr>\n",
       "  </thead>\n",
       "  <tbody>\n",
       "    <tr>\n",
       "      <th>0</th>\n",
       "      <td>0.0</td>\n",
       "      <td>0.0</td>\n",
       "      <td>0.0</td>\n",
       "      <td>0.0</td>\n",
       "      <td>0.0</td>\n",
       "      <td>0.0</td>\n",
       "      <td>0.0</td>\n",
       "      <td>0.0</td>\n",
       "      <td>0.0</td>\n",
       "      <td>0.0</td>\n",
       "      <td>...</td>\n",
       "      <td>0.0</td>\n",
       "      <td>0.000000</td>\n",
       "      <td>0.0</td>\n",
       "      <td>0.0</td>\n",
       "      <td>0.0</td>\n",
       "      <td>0.0</td>\n",
       "      <td>0.0</td>\n",
       "      <td>0.0</td>\n",
       "      <td>0.000000</td>\n",
       "      <td>0.206061</td>\n",
       "    </tr>\n",
       "    <tr>\n",
       "      <th>1</th>\n",
       "      <td>0.0</td>\n",
       "      <td>0.0</td>\n",
       "      <td>0.0</td>\n",
       "      <td>0.0</td>\n",
       "      <td>0.0</td>\n",
       "      <td>0.0</td>\n",
       "      <td>0.0</td>\n",
       "      <td>0.0</td>\n",
       "      <td>0.0</td>\n",
       "      <td>0.0</td>\n",
       "      <td>...</td>\n",
       "      <td>0.0</td>\n",
       "      <td>0.000000</td>\n",
       "      <td>0.0</td>\n",
       "      <td>0.0</td>\n",
       "      <td>0.0</td>\n",
       "      <td>0.0</td>\n",
       "      <td>0.0</td>\n",
       "      <td>0.0</td>\n",
       "      <td>0.138578</td>\n",
       "      <td>0.000000</td>\n",
       "    </tr>\n",
       "    <tr>\n",
       "      <th>2</th>\n",
       "      <td>0.0</td>\n",
       "      <td>0.0</td>\n",
       "      <td>0.0</td>\n",
       "      <td>0.0</td>\n",
       "      <td>0.0</td>\n",
       "      <td>0.0</td>\n",
       "      <td>0.0</td>\n",
       "      <td>0.0</td>\n",
       "      <td>0.0</td>\n",
       "      <td>0.0</td>\n",
       "      <td>...</td>\n",
       "      <td>0.0</td>\n",
       "      <td>0.000000</td>\n",
       "      <td>0.0</td>\n",
       "      <td>0.0</td>\n",
       "      <td>0.0</td>\n",
       "      <td>0.0</td>\n",
       "      <td>0.0</td>\n",
       "      <td>0.0</td>\n",
       "      <td>0.000000</td>\n",
       "      <td>0.000000</td>\n",
       "    </tr>\n",
       "    <tr>\n",
       "      <th>3</th>\n",
       "      <td>0.0</td>\n",
       "      <td>0.0</td>\n",
       "      <td>0.0</td>\n",
       "      <td>0.0</td>\n",
       "      <td>0.0</td>\n",
       "      <td>0.0</td>\n",
       "      <td>0.0</td>\n",
       "      <td>0.0</td>\n",
       "      <td>0.0</td>\n",
       "      <td>0.0</td>\n",
       "      <td>...</td>\n",
       "      <td>0.0</td>\n",
       "      <td>0.000000</td>\n",
       "      <td>0.0</td>\n",
       "      <td>0.0</td>\n",
       "      <td>0.0</td>\n",
       "      <td>0.0</td>\n",
       "      <td>0.0</td>\n",
       "      <td>0.0</td>\n",
       "      <td>0.000000</td>\n",
       "      <td>0.000000</td>\n",
       "    </tr>\n",
       "    <tr>\n",
       "      <th>4</th>\n",
       "      <td>0.0</td>\n",
       "      <td>0.0</td>\n",
       "      <td>0.0</td>\n",
       "      <td>0.0</td>\n",
       "      <td>0.0</td>\n",
       "      <td>0.0</td>\n",
       "      <td>0.0</td>\n",
       "      <td>0.0</td>\n",
       "      <td>0.0</td>\n",
       "      <td>0.0</td>\n",
       "      <td>...</td>\n",
       "      <td>0.0</td>\n",
       "      <td>0.000000</td>\n",
       "      <td>0.0</td>\n",
       "      <td>0.0</td>\n",
       "      <td>0.0</td>\n",
       "      <td>0.0</td>\n",
       "      <td>0.0</td>\n",
       "      <td>0.0</td>\n",
       "      <td>0.000000</td>\n",
       "      <td>0.000000</td>\n",
       "    </tr>\n",
       "    <tr>\n",
       "      <th>...</th>\n",
       "      <td>...</td>\n",
       "      <td>...</td>\n",
       "      <td>...</td>\n",
       "      <td>...</td>\n",
       "      <td>...</td>\n",
       "      <td>...</td>\n",
       "      <td>...</td>\n",
       "      <td>...</td>\n",
       "      <td>...</td>\n",
       "      <td>...</td>\n",
       "      <td>...</td>\n",
       "      <td>...</td>\n",
       "      <td>...</td>\n",
       "      <td>...</td>\n",
       "      <td>...</td>\n",
       "      <td>...</td>\n",
       "      <td>...</td>\n",
       "      <td>...</td>\n",
       "      <td>...</td>\n",
       "      <td>...</td>\n",
       "      <td>...</td>\n",
       "    </tr>\n",
       "    <tr>\n",
       "      <th>1344</th>\n",
       "      <td>0.0</td>\n",
       "      <td>0.0</td>\n",
       "      <td>0.0</td>\n",
       "      <td>0.0</td>\n",
       "      <td>0.0</td>\n",
       "      <td>0.0</td>\n",
       "      <td>0.0</td>\n",
       "      <td>0.0</td>\n",
       "      <td>0.0</td>\n",
       "      <td>0.0</td>\n",
       "      <td>...</td>\n",
       "      <td>0.0</td>\n",
       "      <td>0.000000</td>\n",
       "      <td>0.0</td>\n",
       "      <td>0.0</td>\n",
       "      <td>0.0</td>\n",
       "      <td>0.0</td>\n",
       "      <td>0.0</td>\n",
       "      <td>0.0</td>\n",
       "      <td>0.000000</td>\n",
       "      <td>0.000000</td>\n",
       "    </tr>\n",
       "    <tr>\n",
       "      <th>1345</th>\n",
       "      <td>0.0</td>\n",
       "      <td>0.0</td>\n",
       "      <td>0.0</td>\n",
       "      <td>0.0</td>\n",
       "      <td>0.0</td>\n",
       "      <td>0.0</td>\n",
       "      <td>0.0</td>\n",
       "      <td>0.0</td>\n",
       "      <td>0.0</td>\n",
       "      <td>0.0</td>\n",
       "      <td>...</td>\n",
       "      <td>0.0</td>\n",
       "      <td>0.000000</td>\n",
       "      <td>0.0</td>\n",
       "      <td>0.0</td>\n",
       "      <td>0.0</td>\n",
       "      <td>0.0</td>\n",
       "      <td>0.0</td>\n",
       "      <td>0.0</td>\n",
       "      <td>0.000000</td>\n",
       "      <td>0.000000</td>\n",
       "    </tr>\n",
       "    <tr>\n",
       "      <th>1346</th>\n",
       "      <td>0.0</td>\n",
       "      <td>0.0</td>\n",
       "      <td>0.0</td>\n",
       "      <td>0.0</td>\n",
       "      <td>0.0</td>\n",
       "      <td>0.0</td>\n",
       "      <td>0.0</td>\n",
       "      <td>0.0</td>\n",
       "      <td>0.0</td>\n",
       "      <td>0.0</td>\n",
       "      <td>...</td>\n",
       "      <td>0.0</td>\n",
       "      <td>0.000000</td>\n",
       "      <td>0.0</td>\n",
       "      <td>0.0</td>\n",
       "      <td>0.0</td>\n",
       "      <td>0.0</td>\n",
       "      <td>0.0</td>\n",
       "      <td>0.0</td>\n",
       "      <td>0.000000</td>\n",
       "      <td>0.000000</td>\n",
       "    </tr>\n",
       "    <tr>\n",
       "      <th>1347</th>\n",
       "      <td>0.0</td>\n",
       "      <td>0.0</td>\n",
       "      <td>0.0</td>\n",
       "      <td>0.0</td>\n",
       "      <td>0.0</td>\n",
       "      <td>0.0</td>\n",
       "      <td>0.0</td>\n",
       "      <td>0.0</td>\n",
       "      <td>0.0</td>\n",
       "      <td>0.0</td>\n",
       "      <td>...</td>\n",
       "      <td>0.0</td>\n",
       "      <td>0.104223</td>\n",
       "      <td>0.0</td>\n",
       "      <td>0.0</td>\n",
       "      <td>0.0</td>\n",
       "      <td>0.0</td>\n",
       "      <td>0.0</td>\n",
       "      <td>0.0</td>\n",
       "      <td>0.000000</td>\n",
       "      <td>0.000000</td>\n",
       "    </tr>\n",
       "    <tr>\n",
       "      <th>1348</th>\n",
       "      <td>0.0</td>\n",
       "      <td>0.0</td>\n",
       "      <td>0.0</td>\n",
       "      <td>0.0</td>\n",
       "      <td>0.0</td>\n",
       "      <td>0.0</td>\n",
       "      <td>0.0</td>\n",
       "      <td>0.0</td>\n",
       "      <td>0.0</td>\n",
       "      <td>0.0</td>\n",
       "      <td>...</td>\n",
       "      <td>0.0</td>\n",
       "      <td>0.000000</td>\n",
       "      <td>0.0</td>\n",
       "      <td>0.0</td>\n",
       "      <td>0.0</td>\n",
       "      <td>0.0</td>\n",
       "      <td>0.0</td>\n",
       "      <td>0.0</td>\n",
       "      <td>0.000000</td>\n",
       "      <td>0.000000</td>\n",
       "    </tr>\n",
       "  </tbody>\n",
       "</table>\n",
       "<p>1349 rows × 1374 columns</p>\n",
       "</div>"
      ],
      "text/plain": [
       "      aa physician_assistant  able help  able make  able practice  able say  \\\n",
       "0                        0.0        0.0        0.0            0.0       0.0   \n",
       "1                        0.0        0.0        0.0            0.0       0.0   \n",
       "2                        0.0        0.0        0.0            0.0       0.0   \n",
       "3                        0.0        0.0        0.0            0.0       0.0   \n",
       "4                        0.0        0.0        0.0            0.0       0.0   \n",
       "...                      ...        ...        ...            ...       ...   \n",
       "1344                     0.0        0.0        0.0            0.0       0.0   \n",
       "1345                     0.0        0.0        0.0            0.0       0.0   \n",
       "1346                     0.0        0.0        0.0            0.0       0.0   \n",
       "1347                     0.0        0.0        0.0            0.0       0.0   \n",
       "1348                     0.0        0.0        0.0            0.0       0.0   \n",
       "\n",
       "      academic center  access care  act like  actual evidence  actual patient  \\\n",
       "0                 0.0          0.0       0.0              0.0             0.0   \n",
       "1                 0.0          0.0       0.0              0.0             0.0   \n",
       "2                 0.0          0.0       0.0              0.0             0.0   \n",
       "3                 0.0          0.0       0.0              0.0             0.0   \n",
       "4                 0.0          0.0       0.0              0.0             0.0   \n",
       "...               ...          ...       ...              ...             ...   \n",
       "1344              0.0          0.0       0.0              0.0             0.0   \n",
       "1345              0.0          0.0       0.0              0.0             0.0   \n",
       "1346              0.0          0.0       0.0              0.0             0.0   \n",
       "1347              0.0          0.0       0.0              0.0             0.0   \n",
       "1348              0.0          0.0       0.0              0.0             0.0   \n",
       "\n",
       "      ...  years residency  years study  yesterday saw  york city  york day  \\\n",
       "0     ...              0.0     0.000000            0.0        0.0       0.0   \n",
       "1     ...              0.0     0.000000            0.0        0.0       0.0   \n",
       "2     ...              0.0     0.000000            0.0        0.0       0.0   \n",
       "3     ...              0.0     0.000000            0.0        0.0       0.0   \n",
       "4     ...              0.0     0.000000            0.0        0.0       0.0   \n",
       "...   ...              ...          ...            ...        ...       ...   \n",
       "1344  ...              0.0     0.000000            0.0        0.0       0.0   \n",
       "1345  ...              0.0     0.000000            0.0        0.0       0.0   \n",
       "1346  ...              0.0     0.000000            0.0        0.0       0.0   \n",
       "1347  ...              0.0     0.104223            0.0        0.0       0.0   \n",
       "1348  ...              0.0     0.000000            0.0        0.0       0.0   \n",
       "\n",
       "      york times  young doctors  young female  young healthy  young people  \n",
       "0            0.0            0.0           0.0       0.000000      0.206061  \n",
       "1            0.0            0.0           0.0       0.138578      0.000000  \n",
       "2            0.0            0.0           0.0       0.000000      0.000000  \n",
       "3            0.0            0.0           0.0       0.000000      0.000000  \n",
       "4            0.0            0.0           0.0       0.000000      0.000000  \n",
       "...          ...            ...           ...            ...           ...  \n",
       "1344         0.0            0.0           0.0       0.000000      0.000000  \n",
       "1345         0.0            0.0           0.0       0.000000      0.000000  \n",
       "1346         0.0            0.0           0.0       0.000000      0.000000  \n",
       "1347         0.0            0.0           0.0       0.000000      0.000000  \n",
       "1348         0.0            0.0           0.0       0.000000      0.000000  \n",
       "\n",
       "[1349 rows x 1374 columns]"
      ]
     },
     "execution_count": 22,
     "metadata": {},
     "output_type": "execute_result"
    }
   ],
   "source": [
    "pd.DataFrame(vectorized_text.toarray(), columns=vectorizer.get_feature_names())"
   ]
  },
  {
   "cell_type": "code",
   "execution_count": 23,
   "metadata": {
    "collapsed": true
   },
   "outputs": [
    {
     "ename": "TypeError",
     "evalue": "PCA does not support sparse input. See TruncatedSVD for a possible alternative.",
     "output_type": "error",
     "traceback": [
      "\u001b[0;31m---------------------------------------------------------------------------\u001b[0m",
      "\u001b[0;31mTypeError\u001b[0m                                 Traceback (most recent call last)",
      "\u001b[0;32m<ipython-input-23-cdf29b075981>\u001b[0m in \u001b[0;36m<module>\u001b[0;34m\u001b[0m\n\u001b[1;32m      1\u001b[0m \u001b[0;31m# try taking all data and plotting it on 2 dimensions\u001b[0m\u001b[0;34m\u001b[0m\u001b[0;34m\u001b[0m\u001b[0;34m\u001b[0m\u001b[0m\n\u001b[1;32m      2\u001b[0m \u001b[0mpca\u001b[0m \u001b[0;34m=\u001b[0m \u001b[0mPCA\u001b[0m\u001b[0;34m(\u001b[0m\u001b[0mn_components\u001b[0m\u001b[0;34m=\u001b[0m\u001b[0;36m2\u001b[0m\u001b[0;34m)\u001b[0m\u001b[0;34m\u001b[0m\u001b[0;34m\u001b[0m\u001b[0m\n\u001b[0;32m----> 3\u001b[0;31m \u001b[0mpca\u001b[0m\u001b[0;34m.\u001b[0m\u001b[0mfit\u001b[0m\u001b[0;34m(\u001b[0m\u001b[0mvectorized_text\u001b[0m\u001b[0;34m)\u001b[0m\u001b[0;34m\u001b[0m\u001b[0;34m\u001b[0m\u001b[0m\n\u001b[0m\u001b[1;32m      4\u001b[0m \u001b[0mpcafeatures_\u001b[0m \u001b[0;34m=\u001b[0m \u001b[0mpca\u001b[0m\u001b[0;34m.\u001b[0m\u001b[0mtransform\u001b[0m\u001b[0;34m(\u001b[0m\u001b[0mvectorized_text\u001b[0m\u001b[0;34m)\u001b[0m\u001b[0;34m\u001b[0m\u001b[0;34m\u001b[0m\u001b[0m\n",
      "\u001b[0;32m/opt/anaconda3/lib/python3.7/site-packages/sklearn/decomposition/_pca.py\u001b[0m in \u001b[0;36mfit\u001b[0;34m(self, X, y)\u001b[0m\n\u001b[1;32m    349\u001b[0m             \u001b[0mReturns\u001b[0m \u001b[0mthe\u001b[0m \u001b[0minstance\u001b[0m \u001b[0mitself\u001b[0m\u001b[0;34m.\u001b[0m\u001b[0;34m\u001b[0m\u001b[0;34m\u001b[0m\u001b[0m\n\u001b[1;32m    350\u001b[0m         \"\"\"\n\u001b[0;32m--> 351\u001b[0;31m         \u001b[0mself\u001b[0m\u001b[0;34m.\u001b[0m\u001b[0m_fit\u001b[0m\u001b[0;34m(\u001b[0m\u001b[0mX\u001b[0m\u001b[0;34m)\u001b[0m\u001b[0;34m\u001b[0m\u001b[0;34m\u001b[0m\u001b[0m\n\u001b[0m\u001b[1;32m    352\u001b[0m         \u001b[0;32mreturn\u001b[0m \u001b[0mself\u001b[0m\u001b[0;34m\u001b[0m\u001b[0;34m\u001b[0m\u001b[0m\n\u001b[1;32m    353\u001b[0m \u001b[0;34m\u001b[0m\u001b[0m\n",
      "\u001b[0;32m/opt/anaconda3/lib/python3.7/site-packages/sklearn/decomposition/_pca.py\u001b[0m in \u001b[0;36m_fit\u001b[0;34m(self, X)\u001b[0m\n\u001b[1;32m    392\u001b[0m         \u001b[0;31m# This is more informative than the generic one raised by check_array.\u001b[0m\u001b[0;34m\u001b[0m\u001b[0;34m\u001b[0m\u001b[0;34m\u001b[0m\u001b[0m\n\u001b[1;32m    393\u001b[0m         \u001b[0;32mif\u001b[0m \u001b[0missparse\u001b[0m\u001b[0;34m(\u001b[0m\u001b[0mX\u001b[0m\u001b[0;34m)\u001b[0m\u001b[0;34m:\u001b[0m\u001b[0;34m\u001b[0m\u001b[0;34m\u001b[0m\u001b[0m\n\u001b[0;32m--> 394\u001b[0;31m             raise TypeError('PCA does not support sparse input. See '\n\u001b[0m\u001b[1;32m    395\u001b[0m                             'TruncatedSVD for a possible alternative.')\n\u001b[1;32m    396\u001b[0m \u001b[0;34m\u001b[0m\u001b[0m\n",
      "\u001b[0;31mTypeError\u001b[0m: PCA does not support sparse input. See TruncatedSVD for a possible alternative."
     ]
    }
   ],
   "source": [
    "# try taking all data and plotting it on 2 dimensions\n",
    "pca = PCA(n_components=2)\n",
    "pca.fit(vectorized_text)\n",
    "pcafeatures_ = pca.transform(vectorized_text)"
   ]
  },
  {
   "cell_type": "code",
   "execution_count": null,
   "metadata": {},
   "outputs": [],
   "source": [
    "# hm... looks like I can't do PCA because my TfIdf vectorizer is too sparse\n",
    "# Seems like I already did PCA when I did TruncatedSVD"
   ]
  },
  {
   "cell_type": "code",
   "execution_count": 26,
   "metadata": {},
   "outputs": [],
   "source": [
    "svd = TruncatedSVD(2)\n",
    "svd.fit(vectorized_text)\n",
    "svd_transform = svd.transform(vectorized_text)"
   ]
  },
  {
   "cell_type": "code",
   "execution_count": 28,
   "metadata": {},
   "outputs": [
    {
     "data": {
      "text/plain": [
       "0.024454983511216628"
      ]
     },
     "execution_count": 28,
     "metadata": {},
     "output_type": "execute_result"
    }
   ],
   "source": [
    "explained_variance = svd.explained_variance_ratio_.sum()\n",
    "explained_variance"
   ]
  },
  {
   "cell_type": "code",
   "execution_count": 31,
   "metadata": {},
   "outputs": [
    {
     "data": {
      "image/png": "[encoded data removed]",
      "text/plain": [
       "<Figure size 432x288 with 1 Axes>"
      ]
     },
     "metadata": {
      "needs_background": "light"
     },
     "output_type": "display_data"
    }
   ],
   "source": [
    "# scree plot?\n",
    "plt.plot(svd.explained_variance_ratio_);"
   ]
  },
  {
   "cell_type": "code",
   "execution_count": 7,
   "metadata": {},
   "outputs": [
    {
     "data": {
      "text/html": [
       "<div>\n",
       "<style scoped>\n",
       "    .dataframe tbody tr th:only-of-type {\n",
       "        vertical-align: middle;\n",
       "    }\n",
       "\n",
       "    .dataframe tbody tr th {\n",
       "        vertical-align: top;\n",
       "    }\n",
       "\n",
       "    .dataframe thead th {\n",
       "        text-align: right;\n",
       "    }\n",
       "</style>\n",
       "<table border=\"1\" class=\"dataframe\">\n",
       "  <thead>\n",
       "    <tr style=\"text-align: right;\">\n",
       "      <th></th>\n",
       "      <th>post_id</th>\n",
       "      <th>author</th>\n",
       "      <th>created_utc</th>\n",
       "      <th>month</th>\n",
       "      <th>title</th>\n",
       "      <th>submission_text</th>\n",
       "      <th>score</th>\n",
       "      <th>num_comments</th>\n",
       "      <th>stickied</th>\n",
       "      <th>url</th>\n",
       "      <th>full_text</th>\n",
       "    </tr>\n",
       "  </thead>\n",
       "  <tbody>\n",
       "    <tr>\n",
       "      <th>0</th>\n",
       "      <td>ff8hns</td>\n",
       "      <td>mcgianni</td>\n",
       "      <td>1583647410</td>\n",
       "      <td>3</td>\n",
       "      <td>Testimony of a surgeon working in Bergamo, in ...</td>\n",
       "      <td>«In one of the non-stop e-mails that I receive...</td>\n",
       "      <td>1</td>\n",
       "      <td>571</td>\n",
       "      <td>False</td>\n",
       "      <td>https://www.reddit.com/r/medicine/comments/ff8...</td>\n",
       "      <td>Testimony of a surgeon working in Bergamo, in ...</td>\n",
       "    </tr>\n",
       "    <tr>\n",
       "      <th>1</th>\n",
       "      <td>figd1n</td>\n",
       "      <td>indianola</td>\n",
       "      <td>1584181842</td>\n",
       "      <td>3</td>\n",
       "      <td>I posted a while back seeking a clinical portr...</td>\n",
       "      <td>Got this being passed around my circle of phys...</td>\n",
       "      <td>1</td>\n",
       "      <td>393</td>\n",
       "      <td>False</td>\n",
       "      <td>https://www.reddit.com/r/medicine/comments/fig...</td>\n",
       "      <td>I posted a while back seeking a clinical portr...</td>\n",
       "    </tr>\n",
       "    <tr>\n",
       "      <th>2</th>\n",
       "      <td>fg2rze</td>\n",
       "      <td>Light151</td>\n",
       "      <td>1583791324</td>\n",
       "      <td>3</td>\n",
       "      <td>Anyone else have colleagues who are still sayi...</td>\n",
       "      <td>I have been trying to raise awareness that our...</td>\n",
       "      <td>1</td>\n",
       "      <td>386</td>\n",
       "      <td>False</td>\n",
       "      <td>https://www.reddit.com/r/medicine/comments/fg2...</td>\n",
       "      <td>Anyone else have colleagues who are still sayi...</td>\n",
       "    </tr>\n",
       "    <tr>\n",
       "      <th>3</th>\n",
       "      <td>fi78id</td>\n",
       "      <td>dyingalonewithcats</td>\n",
       "      <td>1584135092</td>\n",
       "      <td>3</td>\n",
       "      <td>Latest CDC updates: best case/worst case scena...</td>\n",
       "      <td></td>\n",
       "      <td>1</td>\n",
       "      <td>336</td>\n",
       "      <td>False</td>\n",
       "      <td>https://www.reddit.com/r/medicine/comments/fi7...</td>\n",
       "      <td>Latest CDC updates: best case/worst case scena...</td>\n",
       "    </tr>\n",
       "    <tr>\n",
       "      <th>4</th>\n",
       "      <td>fdznn0</td>\n",
       "      <td>half-taught-wrong</td>\n",
       "      <td>1583433075</td>\n",
       "      <td>3</td>\n",
       "      <td>[Serious] What is your plan if you or someone ...</td>\n",
       "      <td>I am trying to learn from medical colleagues. ...</td>\n",
       "      <td>1</td>\n",
       "      <td>322</td>\n",
       "      <td>False</td>\n",
       "      <td>https://www.reddit.com/r/medicine/comments/fdz...</td>\n",
       "      <td>[Serious] What is your plan if you or someone ...</td>\n",
       "    </tr>\n",
       "  </tbody>\n",
       "</table>\n",
       "</div>"
      ],
      "text/plain": [
       "  post_id              author  created_utc  month  \\\n",
       "0  ff8hns            mcgianni   1583647410      3   \n",
       "1  figd1n           indianola   1584181842      3   \n",
       "2  fg2rze            Light151   1583791324      3   \n",
       "3  fi78id  dyingalonewithcats   1584135092      3   \n",
       "4  fdznn0   half-taught-wrong   1583433075      3   \n",
       "\n",
       "                                               title  \\\n",
       "0  Testimony of a surgeon working in Bergamo, in ...   \n",
       "1  I posted a while back seeking a clinical portr...   \n",
       "2  Anyone else have colleagues who are still sayi...   \n",
       "3  Latest CDC updates: best case/worst case scena...   \n",
       "4  [Serious] What is your plan if you or someone ...   \n",
       "\n",
       "                                     submission_text  score  num_comments  \\\n",
       "0  «In one of the non-stop e-mails that I receive...      1           571   \n",
       "1  Got this being passed around my circle of phys...      1           393   \n",
       "2  I have been trying to raise awareness that our...      1           386   \n",
       "3                                                         1           336   \n",
       "4  I am trying to learn from medical colleagues. ...      1           322   \n",
       "\n",
       "   stickied                                                url  \\\n",
       "0     False  https://www.reddit.com/r/medicine/comments/ff8...   \n",
       "1     False  https://www.reddit.com/r/medicine/comments/fig...   \n",
       "2     False  https://www.reddit.com/r/medicine/comments/fg2...   \n",
       "3     False  https://www.reddit.com/r/medicine/comments/fi7...   \n",
       "4     False  https://www.reddit.com/r/medicine/comments/fdz...   \n",
       "\n",
       "                                           full_text  \n",
       "0  Testimony of a surgeon working in Bergamo, in ...  \n",
       "1  I posted a while back seeking a clinical portr...  \n",
       "2  Anyone else have colleagues who are still sayi...  \n",
       "3  Latest CDC updates: best case/worst case scena...  \n",
       "4  [Serious] What is your plan if you or someone ...  "
      ]
     },
     "execution_count": 7,
     "metadata": {},
     "output_type": "execute_result"
    }
   ],
   "source": [
    "reddit_df.head()"
   ]
  },
  {
   "cell_type": "markdown",
   "metadata": {},
   "source": [
    "<a id='section4'></a>"
   ]
  },
  {
   "cell_type": "markdown",
   "metadata": {},
   "source": [
    "### 4. kMeans Clustering"
   ]
  },
  {
   "cell_type": "code",
   "execution_count": 45,
   "metadata": {},
   "outputs": [
    {
     "data": {
      "text/plain": [
       "KMeans(n_clusters=6, n_init=1, random_state=10)"
      ]
     },
     "execution_count": 45,
     "metadata": {},
     "output_type": "execute_result"
    }
   ],
   "source": [
    "# clustering with a random state of 10\n",
    "num_clusters = 6 # I had 6 topics for my final LDA model\n",
    "\n",
    "# n_init, number of times the K-mean algorithm will run\n",
    "km = KMeans(n_clusters=num_clusters, random_state=10, n_init=1)\n",
    "\n",
    "# do KMeans clustering on the TruncatedSVD (PCA) dimensionality reduced version of the text\n",
    "km.fit(svd_transform)"
   ]
  },
  {
   "cell_type": "code",
   "execution_count": 54,
   "metadata": {
    "scrolled": true
   },
   "outputs": [
    {
     "data": {
      "image/png": "[encoded data removed]",
      "text/plain": [
       "<Figure size 432x288 with 1 Axes>"
      ]
     },
     "metadata": {
      "needs_background": "light"
     },
     "output_type": "display_data"
    }
   ],
   "source": [
    "# somehow have clustering with SVD transformation?\n",
    "plt.scatter(svd_transform[:,0],svd_transform[:,1], c=km.predict(svd_transform))\n",
    "plt.xlabel(\"Component 1\")\n",
    "plt.ylabel(\"Component 2\");"
   ]
  },
  {
   "cell_type": "code",
   "execution_count": 57,
   "metadata": {},
   "outputs": [
    {
     "data": {
      "text/plain": [
       "MiniBatchKMeans(n_clusters=10, random_state=10)"
      ]
     },
     "execution_count": 57,
     "metadata": {},
     "output_type": "execute_result"
    }
   ],
   "source": [
    "# trying MiniBatchKmeans on my vectorized text data\n",
    "mini_km = MiniBatchKMeans(n_clusters=10, random_state = 10)\n",
    "mini_km.fit(vectorized_text)"
   ]
  },
  {
   "cell_type": "code",
   "execution_count": 58,
   "metadata": {},
   "outputs": [
    {
     "data": {
      "text/plain": [
       "array([1, 1, 1, ..., 1, 3, 4], dtype=int32)"
      ]
     },
     "execution_count": 58,
     "metadata": {},
     "output_type": "execute_result"
    }
   ],
   "source": [
    "mini_km.predict(vectorized_text)"
   ]
  },
  {
   "cell_type": "code",
   "execution_count": 61,
   "metadata": {},
   "outputs": [],
   "source": [
    "# reduce features to 2D\n",
    "pca = PCA(n_components=2, random_state=10)\n",
    "reduced_features = pca.fit_transform(vectorized_text.toarray())"
   ]
  },
  {
   "cell_type": "code",
   "execution_count": 63,
   "metadata": {},
   "outputs": [
    {
     "data": {
      "image/png": "[encoded data removed]",
      "text/plain": [
       "<Figure size 432x288 with 1 Axes>"
      ]
     },
     "metadata": {
      "needs_background": "light"
     },
     "output_type": "display_data"
    }
   ],
   "source": [
    "plt.scatter(reduced_features[:,0], reduced_features[:,1], c=mini_km.predict(vectorized_text));"
   ]
  },
  {
   "cell_type": "code",
   "execution_count": 66,
   "metadata": {},
   "outputs": [],
   "source": [
    "colors = cycle(['r','g','b','c','m','y','orange','k','aqua','yellow'])"
   ]
  },
  {
   "cell_type": "code",
   "execution_count": 67,
   "metadata": {},
   "outputs": [],
   "source": [
    "# trying out tSNE\n",
    "\n",
    "tSNE_model = TSNE(n_components=2, random_state=10)\n",
    "low_data = tSNE_model.fit_transform(vectorized_text)"
   ]
  },
  {
   "cell_type": "code",
   "execution_count": 70,
   "metadata": {},
   "outputs": [
    {
     "data": {
      "image/png": "[encoded data removed]",
      "text/plain": [
       "<Figure size 432x288 with 1 Axes>"
      ]
     },
     "metadata": {
      "needs_background": "light"
     },
     "output_type": "display_data"
    }
   ],
   "source": [
    "plt.scatter(low_data[:,0], low_data[:,1]);"
   ]
  },
  {
   "cell_type": "code",
   "execution_count": 71,
   "metadata": {},
   "outputs": [],
   "source": [
    "def inertia_plot(data, max_clusters):\n",
    "    inertias = []\n",
    "    \n",
    "    for k in range(1, max_clusters):\n",
    "        km = KMeans(n_clusters=k)\n",
    "        km.fit(data)\n",
    "        inertias.append(km.inertia_)\n",
    "    \n",
    "    plt.plot(range(1, max_clusters), inertias, color='g')\n",
    "    plt.xlabel(\"Number of Clusters\")\n",
    "    plt.ylabel(\"Inertia\")\n",
    "    return plt.show()\n",
    "    "
   ]
  },
  {
   "cell_type": "code",
   "execution_count": 74,
   "metadata": {},
   "outputs": [
    {
     "data": {
      "image/png": "[encoded data removed]",
      "text/plain": [
       "<Figure size 432x288 with 1 Axes>"
      ]
     },
     "metadata": {
      "needs_background": "light"
     },
     "output_type": "display_data"
    }
   ],
   "source": [
    "# trying out KMeans on my Tfidf vectorized text...\n",
    "inertia_plot(vectorized_text, 100)"
   ]
  },
  {
   "cell_type": "markdown",
   "metadata": {},
   "source": [
    "I have a topic document matrix that I could play around with."
   ]
  },
  {
   "cell_type": "code",
   "execution_count": 76,
   "metadata": {},
   "outputs": [],
   "source": [
    "with open('data/topic_matrix_df.pkl', 'rb') as f:\n",
    "    topic_df = pickle.load(f)"
   ]
  },
  {
   "cell_type": "code",
   "execution_count": 77,
   "metadata": {},
   "outputs": [
    {
     "data": {
      "text/html": [
       "<div>\n",
       "<style scoped>\n",
       "    .dataframe tbody tr th:only-of-type {\n",
       "        vertical-align: middle;\n",
       "    }\n",
       "\n",
       "    .dataframe tbody tr th {\n",
       "        vertical-align: top;\n",
       "    }\n",
       "\n",
       "    .dataframe thead th {\n",
       "        text-align: right;\n",
       "    }\n",
       "</style>\n",
       "<table border=\"1\" class=\"dataframe\">\n",
       "  <thead>\n",
       "    <tr style=\"text-align: right;\">\n",
       "      <th></th>\n",
       "      <th>1st_topic</th>\n",
       "      <th>1st_topic_perc</th>\n",
       "      <th>2nd_topic</th>\n",
       "      <th>2nd_topic_perc</th>\n",
       "      <th>3rd_topic</th>\n",
       "      <th>3rd_topic_perc</th>\n",
       "      <th>4th_topic</th>\n",
       "      <th>4th_topic_perc</th>\n",
       "      <th>5th_topic</th>\n",
       "      <th>5th_topic_perc</th>\n",
       "      <th>6th_topic</th>\n",
       "      <th>6th_topic_perc</th>\n",
       "      <th>full_text</th>\n",
       "      <th>cleaned_text</th>\n",
       "      <th>month</th>\n",
       "      <th>1st_topic_mapped</th>\n",
       "    </tr>\n",
       "  </thead>\n",
       "  <tbody>\n",
       "    <tr>\n",
       "      <th>0</th>\n",
       "      <td>1</td>\n",
       "      <td>0.6190</td>\n",
       "      <td>4</td>\n",
       "      <td>0.1544</td>\n",
       "      <td>5</td>\n",
       "      <td>0.1273</td>\n",
       "      <td>6</td>\n",
       "      <td>0.0472</td>\n",
       "      <td>3</td>\n",
       "      <td>0.0422</td>\n",
       "      <td>0</td>\n",
       "      <td>NaN</td>\n",
       "      <td>Testimony of a surgeon working in Bergamo, in ...</td>\n",
       "      <td>testimony of a surgeon working in bergamo  in ...</td>\n",
       "      <td>3</td>\n",
       "      <td>Medical Studies</td>\n",
       "    </tr>\n",
       "    <tr>\n",
       "      <th>1</th>\n",
       "      <td>5</td>\n",
       "      <td>0.4994</td>\n",
       "      <td>1</td>\n",
       "      <td>0.1907</td>\n",
       "      <td>6</td>\n",
       "      <td>0.1433</td>\n",
       "      <td>4</td>\n",
       "      <td>0.0791</td>\n",
       "      <td>3</td>\n",
       "      <td>0.0652</td>\n",
       "      <td>2</td>\n",
       "      <td>0.0222</td>\n",
       "      <td>I posted a while back seeking a clinical portr...</td>\n",
       "      <td>i posted a while back seeking a clinical portr...</td>\n",
       "      <td>3</td>\n",
       "      <td>Healthcare System</td>\n",
       "    </tr>\n",
       "    <tr>\n",
       "      <th>2</th>\n",
       "      <td>4</td>\n",
       "      <td>0.3974</td>\n",
       "      <td>1</td>\n",
       "      <td>0.3570</td>\n",
       "      <td>5</td>\n",
       "      <td>0.0844</td>\n",
       "      <td>3</td>\n",
       "      <td>0.0679</td>\n",
       "      <td>6</td>\n",
       "      <td>0.0511</td>\n",
       "      <td>2</td>\n",
       "      <td>0.0421</td>\n",
       "      <td>Anyone else have colleagues who are still sayi...</td>\n",
       "      <td>anyone else have colleagues who are still sayi...</td>\n",
       "      <td>3</td>\n",
       "      <td>Coronavirus Treatment</td>\n",
       "    </tr>\n",
       "    <tr>\n",
       "      <th>3</th>\n",
       "      <td>4</td>\n",
       "      <td>0.3988</td>\n",
       "      <td>1</td>\n",
       "      <td>0.2520</td>\n",
       "      <td>3</td>\n",
       "      <td>0.2080</td>\n",
       "      <td>6</td>\n",
       "      <td>0.0804</td>\n",
       "      <td>5</td>\n",
       "      <td>0.0407</td>\n",
       "      <td>2</td>\n",
       "      <td>0.0201</td>\n",
       "      <td>Latest CDC updates: best case/worst case scena...</td>\n",
       "      <td>latest  centers_for_disease_control  updates  ...</td>\n",
       "      <td>3</td>\n",
       "      <td>Coronavirus Treatment</td>\n",
       "    </tr>\n",
       "    <tr>\n",
       "      <th>4</th>\n",
       "      <td>1</td>\n",
       "      <td>0.6501</td>\n",
       "      <td>3</td>\n",
       "      <td>0.1048</td>\n",
       "      <td>4</td>\n",
       "      <td>0.1011</td>\n",
       "      <td>2</td>\n",
       "      <td>0.0771</td>\n",
       "      <td>6</td>\n",
       "      <td>0.0572</td>\n",
       "      <td>0</td>\n",
       "      <td>NaN</td>\n",
       "      <td>[Serious] What is your plan if you or someone ...</td>\n",
       "      <td>serious  what is your plan if you or someone ...</td>\n",
       "      <td>3</td>\n",
       "      <td>Medical Studies</td>\n",
       "    </tr>\n",
       "  </tbody>\n",
       "</table>\n",
       "</div>"
      ],
      "text/plain": [
       "   1st_topic  1st_topic_perc  2nd_topic  2nd_topic_perc  3rd_topic  \\\n",
       "0          1          0.6190          4          0.1544          5   \n",
       "1          5          0.4994          1          0.1907          6   \n",
       "2          4          0.3974          1          0.3570          5   \n",
       "3          4          0.3988          1          0.2520          3   \n",
       "4          1          0.6501          3          0.1048          4   \n",
       "\n",
       "   3rd_topic_perc  4th_topic  4th_topic_perc  5th_topic  5th_topic_perc  \\\n",
       "0          0.1273          6          0.0472          3          0.0422   \n",
       "1          0.1433          4          0.0791          3          0.0652   \n",
       "2          0.0844          3          0.0679          6          0.0511   \n",
       "3          0.2080          6          0.0804          5          0.0407   \n",
       "4          0.1011          2          0.0771          6          0.0572   \n",
       "\n",
       "   6th_topic  6th_topic_perc  \\\n",
       "0          0             NaN   \n",
       "1          2          0.0222   \n",
       "2          2          0.0421   \n",
       "3          2          0.0201   \n",
       "4          0             NaN   \n",
       "\n",
       "                                           full_text  \\\n",
       "0  Testimony of a surgeon working in Bergamo, in ...   \n",
       "1  I posted a while back seeking a clinical portr...   \n",
       "2  Anyone else have colleagues who are still sayi...   \n",
       "3  Latest CDC updates: best case/worst case scena...   \n",
       "4  [Serious] What is your plan if you or someone ...   \n",
       "\n",
       "                                        cleaned_text  month  \\\n",
       "0  testimony of a surgeon working in bergamo  in ...      3   \n",
       "1  i posted a while back seeking a clinical portr...      3   \n",
       "2  anyone else have colleagues who are still sayi...      3   \n",
       "3  latest  centers_for_disease_control  updates  ...      3   \n",
       "4   serious  what is your plan if you or someone ...      3   \n",
       "\n",
       "        1st_topic_mapped  \n",
       "0        Medical Studies  \n",
       "1      Healthcare System  \n",
       "2  Coronavirus Treatment  \n",
       "3  Coronavirus Treatment  \n",
       "4        Medical Studies  "
      ]
     },
     "execution_count": 77,
     "metadata": {},
     "output_type": "execute_result"
    }
   ],
   "source": [
    "topic_df.head()"
   ]
  },
  {
   "cell_type": "code",
   "execution_count": null,
   "metadata": {},
   "outputs": [],
   "source": [
    "def display_cluster(data, km, num_clusters):\n",
    "    '''\n",
    "    Display clusters for a kMeans Clustering model\n",
    "    Parameters:\n",
    "    ----------\n",
    "    - data: text data (must be vectorized using something like Tfidf)\n",
    "    - km: an instance of KMeans\n",
    "    - num_clusters: the number of clusters to generate\n",
    "    '''\n",
    "    color='brgcmyk'\n",
    "    alpha=0.5\n",
    "    s=20\n",
    "    \n",
    "    for i in range(num_clusters):\n",
    "        plt.scatter(data[km.labels_==i,0], data[km.labels_==i,1],c=color[i], alpha=alpha, s=s)\n",
    "        plt.scatter(km.cluster_centers_[i][0], km.cluster_centers_[i][1],c=color[i], alpha=alpha, s=s)"
   ]
  },
  {
   "cell_type": "code",
   "execution_count": 49,
   "metadata": {},
   "outputs": [
    {
     "data": {
      "text/plain": [
       "<222x1 sparse matrix of type '<class 'numpy.float64'>'\n",
       "\twith 1 stored elements in Compressed Sparse Row format>"
      ]
     },
     "execution_count": 49,
     "metadata": {},
     "output_type": "execute_result"
    }
   ],
   "source": [
    "vectorized_text[km.labels_==0,0]"
   ]
  },
  {
   "cell_type": "code",
   "execution_count": 40,
   "metadata": {},
   "outputs": [
    {
     "ename": "ValueError",
     "evalue": "setting an array element with a sequence.",
     "output_type": "error",
     "traceback": [
      "\u001b[0;31m---------------------------------------------------------------------------\u001b[0m",
      "\u001b[0;31mTypeError\u001b[0m                                 Traceback (most recent call last)",
      "\u001b[0;31mTypeError\u001b[0m: float() argument must be a string or a number, not 'csr_matrix'",
      "\nThe above exception was the direct cause of the following exception:\n",
      "\u001b[0;31mValueError\u001b[0m                                Traceback (most recent call last)",
      "\u001b[0;32m<ipython-input-40-2b08f80d9d59>\u001b[0m in \u001b[0;36m<module>\u001b[0;34m\u001b[0m\n\u001b[0;32m----> 1\u001b[0;31m \u001b[0mdisplay_cluster\u001b[0m\u001b[0;34m(\u001b[0m\u001b[0mvectorized_text\u001b[0m\u001b[0;34m,\u001b[0m \u001b[0mkm\u001b[0m\u001b[0;34m,\u001b[0m \u001b[0mnum_clusters\u001b[0m\u001b[0;34m)\u001b[0m\u001b[0;34m\u001b[0m\u001b[0;34m\u001b[0m\u001b[0m\n\u001b[0m",
      "\u001b[0;32m<ipython-input-39-3edea6632ddd>\u001b[0m in \u001b[0;36mdisplay_cluster\u001b[0;34m(data, km, num_clusters)\u001b[0m\n\u001b[1;32m     13\u001b[0m \u001b[0;34m\u001b[0m\u001b[0m\n\u001b[1;32m     14\u001b[0m     \u001b[0;32mfor\u001b[0m \u001b[0mi\u001b[0m \u001b[0;32min\u001b[0m \u001b[0mrange\u001b[0m\u001b[0;34m(\u001b[0m\u001b[0mnum_clusters\u001b[0m\u001b[0;34m)\u001b[0m\u001b[0;34m:\u001b[0m\u001b[0;34m\u001b[0m\u001b[0;34m\u001b[0m\u001b[0m\n\u001b[0;32m---> 15\u001b[0;31m         \u001b[0mplt\u001b[0m\u001b[0;34m.\u001b[0m\u001b[0mscatter\u001b[0m\u001b[0;34m(\u001b[0m\u001b[0mdata\u001b[0m\u001b[0;34m[\u001b[0m\u001b[0mkm\u001b[0m\u001b[0;34m.\u001b[0m\u001b[0mlabels_\u001b[0m\u001b[0;34m==\u001b[0m\u001b[0mi\u001b[0m\u001b[0;34m,\u001b[0m\u001b[0;36m0\u001b[0m\u001b[0;34m]\u001b[0m\u001b[0;34m,\u001b[0m \u001b[0mdata\u001b[0m\u001b[0;34m[\u001b[0m\u001b[0mkm\u001b[0m\u001b[0;34m.\u001b[0m\u001b[0mlabels_\u001b[0m\u001b[0;34m==\u001b[0m\u001b[0mi\u001b[0m\u001b[0;34m,\u001b[0m\u001b[0;36m1\u001b[0m\u001b[0;34m]\u001b[0m\u001b[0;34m,\u001b[0m\u001b[0mc\u001b[0m\u001b[0;34m=\u001b[0m\u001b[0mcolor\u001b[0m\u001b[0;34m[\u001b[0m\u001b[0mi\u001b[0m\u001b[0;34m]\u001b[0m\u001b[0;34m,\u001b[0m \u001b[0malpha\u001b[0m\u001b[0;34m=\u001b[0m\u001b[0malpha\u001b[0m\u001b[0;34m,\u001b[0m \u001b[0ms\u001b[0m\u001b[0;34m=\u001b[0m\u001b[0ms\u001b[0m\u001b[0;34m)\u001b[0m\u001b[0;34m\u001b[0m\u001b[0;34m\u001b[0m\u001b[0m\n\u001b[0m\u001b[1;32m     16\u001b[0m         \u001b[0mplt\u001b[0m\u001b[0;34m.\u001b[0m\u001b[0mscatter\u001b[0m\u001b[0;34m(\u001b[0m\u001b[0mkm\u001b[0m\u001b[0;34m.\u001b[0m\u001b[0mcluster_centers_\u001b[0m\u001b[0;34m[\u001b[0m\u001b[0mi\u001b[0m\u001b[0;34m]\u001b[0m\u001b[0;34m[\u001b[0m\u001b[0;36m0\u001b[0m\u001b[0;34m]\u001b[0m\u001b[0;34m,\u001b[0m \u001b[0mkm\u001b[0m\u001b[0;34m.\u001b[0m\u001b[0mcluster_centers_\u001b[0m\u001b[0;34m[\u001b[0m\u001b[0mi\u001b[0m\u001b[0;34m]\u001b[0m\u001b[0;34m[\u001b[0m\u001b[0;36m1\u001b[0m\u001b[0;34m]\u001b[0m\u001b[0;34m,\u001b[0m\u001b[0mc\u001b[0m\u001b[0;34m=\u001b[0m\u001b[0mcolor\u001b[0m\u001b[0;34m[\u001b[0m\u001b[0mi\u001b[0m\u001b[0;34m]\u001b[0m\u001b[0;34m,\u001b[0m \u001b[0malpha\u001b[0m\u001b[0;34m=\u001b[0m\u001b[0malpha\u001b[0m\u001b[0;34m,\u001b[0m \u001b[0ms\u001b[0m\u001b[0;34m=\u001b[0m\u001b[0ms\u001b[0m\u001b[0;34m)\u001b[0m\u001b[0;34m\u001b[0m\u001b[0;34m\u001b[0m\u001b[0m\n",
      "\u001b[0;32m/opt/anaconda3/lib/python3.7/site-packages/matplotlib/pyplot.py\u001b[0m in \u001b[0;36mscatter\u001b[0;34m(x, y, s, c, marker, cmap, norm, vmin, vmax, alpha, linewidths, verts, edgecolors, plotnonfinite, data, **kwargs)\u001b[0m\n\u001b[1;32m   2814\u001b[0m         \u001b[0mverts\u001b[0m\u001b[0;34m=\u001b[0m\u001b[0mverts\u001b[0m\u001b[0;34m,\u001b[0m \u001b[0medgecolors\u001b[0m\u001b[0;34m=\u001b[0m\u001b[0medgecolors\u001b[0m\u001b[0;34m,\u001b[0m\u001b[0;34m\u001b[0m\u001b[0;34m\u001b[0m\u001b[0m\n\u001b[1;32m   2815\u001b[0m         plotnonfinite=plotnonfinite, **({\"data\": data} if data is not\n\u001b[0;32m-> 2816\u001b[0;31m         None else {}), **kwargs)\n\u001b[0m\u001b[1;32m   2817\u001b[0m     \u001b[0msci\u001b[0m\u001b[0;34m(\u001b[0m\u001b[0m__ret\u001b[0m\u001b[0;34m)\u001b[0m\u001b[0;34m\u001b[0m\u001b[0;34m\u001b[0m\u001b[0m\n\u001b[1;32m   2818\u001b[0m     \u001b[0;32mreturn\u001b[0m \u001b[0m__ret\u001b[0m\u001b[0;34m\u001b[0m\u001b[0;34m\u001b[0m\u001b[0m\n",
      "\u001b[0;32m/opt/anaconda3/lib/python3.7/site-packages/matplotlib/__init__.py\u001b[0m in \u001b[0;36minner\u001b[0;34m(ax, data, *args, **kwargs)\u001b[0m\n\u001b[1;32m   1563\u001b[0m     \u001b[0;32mdef\u001b[0m \u001b[0minner\u001b[0m\u001b[0;34m(\u001b[0m\u001b[0max\u001b[0m\u001b[0;34m,\u001b[0m \u001b[0;34m*\u001b[0m\u001b[0margs\u001b[0m\u001b[0;34m,\u001b[0m \u001b[0mdata\u001b[0m\u001b[0;34m=\u001b[0m\u001b[0;32mNone\u001b[0m\u001b[0;34m,\u001b[0m \u001b[0;34m**\u001b[0m\u001b[0mkwargs\u001b[0m\u001b[0;34m)\u001b[0m\u001b[0;34m:\u001b[0m\u001b[0;34m\u001b[0m\u001b[0;34m\u001b[0m\u001b[0m\n\u001b[1;32m   1564\u001b[0m         \u001b[0;32mif\u001b[0m \u001b[0mdata\u001b[0m \u001b[0;32mis\u001b[0m \u001b[0;32mNone\u001b[0m\u001b[0;34m:\u001b[0m\u001b[0;34m\u001b[0m\u001b[0;34m\u001b[0m\u001b[0m\n\u001b[0;32m-> 1565\u001b[0;31m             \u001b[0;32mreturn\u001b[0m \u001b[0mfunc\u001b[0m\u001b[0;34m(\u001b[0m\u001b[0max\u001b[0m\u001b[0;34m,\u001b[0m \u001b[0;34m*\u001b[0m\u001b[0mmap\u001b[0m\u001b[0;34m(\u001b[0m\u001b[0msanitize_sequence\u001b[0m\u001b[0;34m,\u001b[0m \u001b[0margs\u001b[0m\u001b[0;34m)\u001b[0m\u001b[0;34m,\u001b[0m \u001b[0;34m**\u001b[0m\u001b[0mkwargs\u001b[0m\u001b[0;34m)\u001b[0m\u001b[0;34m\u001b[0m\u001b[0;34m\u001b[0m\u001b[0m\n\u001b[0m\u001b[1;32m   1566\u001b[0m \u001b[0;34m\u001b[0m\u001b[0m\n\u001b[1;32m   1567\u001b[0m         \u001b[0mbound\u001b[0m \u001b[0;34m=\u001b[0m \u001b[0mnew_sig\u001b[0m\u001b[0;34m.\u001b[0m\u001b[0mbind\u001b[0m\u001b[0;34m(\u001b[0m\u001b[0max\u001b[0m\u001b[0;34m,\u001b[0m \u001b[0;34m*\u001b[0m\u001b[0margs\u001b[0m\u001b[0;34m,\u001b[0m \u001b[0;34m**\u001b[0m\u001b[0mkwargs\u001b[0m\u001b[0;34m)\u001b[0m\u001b[0;34m\u001b[0m\u001b[0;34m\u001b[0m\u001b[0m\n",
      "\u001b[0;32m/opt/anaconda3/lib/python3.7/site-packages/matplotlib/cbook/deprecation.py\u001b[0m in \u001b[0;36mwrapper\u001b[0;34m(*args, **kwargs)\u001b[0m\n\u001b[1;32m    356\u001b[0m                 \u001b[0;34mf\"%(removal)s.  If any parameter follows {name!r}, they \"\u001b[0m\u001b[0;34m\u001b[0m\u001b[0;34m\u001b[0m\u001b[0m\n\u001b[1;32m    357\u001b[0m                 f\"should be pass as keyword, not positionally.\")\n\u001b[0;32m--> 358\u001b[0;31m         \u001b[0;32mreturn\u001b[0m \u001b[0mfunc\u001b[0m\u001b[0;34m(\u001b[0m\u001b[0;34m*\u001b[0m\u001b[0margs\u001b[0m\u001b[0;34m,\u001b[0m \u001b[0;34m**\u001b[0m\u001b[0mkwargs\u001b[0m\u001b[0;34m)\u001b[0m\u001b[0;34m\u001b[0m\u001b[0;34m\u001b[0m\u001b[0m\n\u001b[0m\u001b[1;32m    359\u001b[0m \u001b[0;34m\u001b[0m\u001b[0m\n\u001b[1;32m    360\u001b[0m     \u001b[0;32mreturn\u001b[0m \u001b[0mwrapper\u001b[0m\u001b[0;34m\u001b[0m\u001b[0;34m\u001b[0m\u001b[0m\n",
      "\u001b[0;32m/opt/anaconda3/lib/python3.7/site-packages/matplotlib/axes/_axes.py\u001b[0m in \u001b[0;36mscatter\u001b[0;34m(self, x, y, s, c, marker, cmap, norm, vmin, vmax, alpha, linewidths, verts, edgecolors, plotnonfinite, **kwargs)\u001b[0m\n\u001b[1;32m   4438\u001b[0m                 \u001b[0moffsets\u001b[0m\u001b[0;34m=\u001b[0m\u001b[0moffsets\u001b[0m\u001b[0;34m,\u001b[0m\u001b[0;34m\u001b[0m\u001b[0;34m\u001b[0m\u001b[0m\n\u001b[1;32m   4439\u001b[0m                 \u001b[0mtransOffset\u001b[0m\u001b[0;34m=\u001b[0m\u001b[0mkwargs\u001b[0m\u001b[0;34m.\u001b[0m\u001b[0mpop\u001b[0m\u001b[0;34m(\u001b[0m\u001b[0;34m'transform'\u001b[0m\u001b[0;34m,\u001b[0m \u001b[0mself\u001b[0m\u001b[0;34m.\u001b[0m\u001b[0mtransData\u001b[0m\u001b[0;34m)\u001b[0m\u001b[0;34m,\u001b[0m\u001b[0;34m\u001b[0m\u001b[0;34m\u001b[0m\u001b[0m\n\u001b[0;32m-> 4440\u001b[0;31m                 \u001b[0malpha\u001b[0m\u001b[0;34m=\u001b[0m\u001b[0malpha\u001b[0m\u001b[0;34m\u001b[0m\u001b[0;34m\u001b[0m\u001b[0m\n\u001b[0m\u001b[1;32m   4441\u001b[0m                 )\n\u001b[1;32m   4442\u001b[0m         \u001b[0mcollection\u001b[0m\u001b[0;34m.\u001b[0m\u001b[0mset_transform\u001b[0m\u001b[0;34m(\u001b[0m\u001b[0mmtransforms\u001b[0m\u001b[0;34m.\u001b[0m\u001b[0mIdentityTransform\u001b[0m\u001b[0;34m(\u001b[0m\u001b[0;34m)\u001b[0m\u001b[0;34m)\u001b[0m\u001b[0;34m\u001b[0m\u001b[0;34m\u001b[0m\u001b[0m\n",
      "\u001b[0;32m/opt/anaconda3/lib/python3.7/site-packages/matplotlib/collections.py\u001b[0m in \u001b[0;36m__init__\u001b[0;34m(self, paths, sizes, **kwargs)\u001b[0m\n\u001b[1;32m    909\u001b[0m         \"\"\"\n\u001b[1;32m    910\u001b[0m \u001b[0;34m\u001b[0m\u001b[0m\n\u001b[0;32m--> 911\u001b[0;31m         \u001b[0mCollection\u001b[0m\u001b[0;34m.\u001b[0m\u001b[0m__init__\u001b[0m\u001b[0;34m(\u001b[0m\u001b[0mself\u001b[0m\u001b[0;34m,\u001b[0m \u001b[0;34m**\u001b[0m\u001b[0mkwargs\u001b[0m\u001b[0;34m)\u001b[0m\u001b[0;34m\u001b[0m\u001b[0;34m\u001b[0m\u001b[0m\n\u001b[0m\u001b[1;32m    912\u001b[0m         \u001b[0mself\u001b[0m\u001b[0;34m.\u001b[0m\u001b[0mset_paths\u001b[0m\u001b[0;34m(\u001b[0m\u001b[0mpaths\u001b[0m\u001b[0;34m)\u001b[0m\u001b[0;34m\u001b[0m\u001b[0;34m\u001b[0m\u001b[0m\n\u001b[1;32m    913\u001b[0m         \u001b[0mself\u001b[0m\u001b[0;34m.\u001b[0m\u001b[0mset_sizes\u001b[0m\u001b[0;34m(\u001b[0m\u001b[0msizes\u001b[0m\u001b[0;34m)\u001b[0m\u001b[0;34m\u001b[0m\u001b[0;34m\u001b[0m\u001b[0m\n",
      "\u001b[0;32m/opt/anaconda3/lib/python3.7/site-packages/matplotlib/collections.py\u001b[0m in \u001b[0;36m__init__\u001b[0;34m(self, edgecolors, facecolors, linewidths, linestyles, capstyle, joinstyle, antialiaseds, offsets, transOffset, norm, cmap, pickradius, hatch, urls, offset_position, zorder, **kwargs)\u001b[0m\n\u001b[1;32m    151\u001b[0m         \u001b[0mself\u001b[0m\u001b[0;34m.\u001b[0m\u001b[0m_uniform_offsets\u001b[0m \u001b[0;34m=\u001b[0m \u001b[0;32mNone\u001b[0m\u001b[0;34m\u001b[0m\u001b[0;34m\u001b[0m\u001b[0m\n\u001b[1;32m    152\u001b[0m         \u001b[0;32mif\u001b[0m \u001b[0moffsets\u001b[0m \u001b[0;32mis\u001b[0m \u001b[0;32mnot\u001b[0m \u001b[0;32mNone\u001b[0m\u001b[0;34m:\u001b[0m\u001b[0;34m\u001b[0m\u001b[0;34m\u001b[0m\u001b[0m\n\u001b[0;32m--> 153\u001b[0;31m             \u001b[0moffsets\u001b[0m \u001b[0;34m=\u001b[0m \u001b[0mnp\u001b[0m\u001b[0;34m.\u001b[0m\u001b[0masanyarray\u001b[0m\u001b[0;34m(\u001b[0m\u001b[0moffsets\u001b[0m\u001b[0;34m,\u001b[0m \u001b[0mfloat\u001b[0m\u001b[0;34m)\u001b[0m\u001b[0;34m\u001b[0m\u001b[0;34m\u001b[0m\u001b[0m\n\u001b[0m\u001b[1;32m    154\u001b[0m             \u001b[0;31m# Broadcast (2,) -> (1, 2) but nothing else.\u001b[0m\u001b[0;34m\u001b[0m\u001b[0;34m\u001b[0m\u001b[0;34m\u001b[0m\u001b[0m\n\u001b[1;32m    155\u001b[0m             \u001b[0;32mif\u001b[0m \u001b[0moffsets\u001b[0m\u001b[0;34m.\u001b[0m\u001b[0mshape\u001b[0m \u001b[0;34m==\u001b[0m \u001b[0;34m(\u001b[0m\u001b[0;36m2\u001b[0m\u001b[0;34m,\u001b[0m\u001b[0;34m)\u001b[0m\u001b[0;34m:\u001b[0m\u001b[0;34m\u001b[0m\u001b[0;34m\u001b[0m\u001b[0m\n",
      "\u001b[0;32m/opt/anaconda3/lib/python3.7/site-packages/numpy/core/_asarray.py\u001b[0m in \u001b[0;36masanyarray\u001b[0;34m(a, dtype, order)\u001b[0m\n\u001b[1;32m    134\u001b[0m \u001b[0;34m\u001b[0m\u001b[0m\n\u001b[1;32m    135\u001b[0m     \"\"\"\n\u001b[0;32m--> 136\u001b[0;31m     \u001b[0;32mreturn\u001b[0m \u001b[0marray\u001b[0m\u001b[0;34m(\u001b[0m\u001b[0ma\u001b[0m\u001b[0;34m,\u001b[0m \u001b[0mdtype\u001b[0m\u001b[0;34m,\u001b[0m \u001b[0mcopy\u001b[0m\u001b[0;34m=\u001b[0m\u001b[0;32mFalse\u001b[0m\u001b[0;34m,\u001b[0m \u001b[0morder\u001b[0m\u001b[0;34m=\u001b[0m\u001b[0morder\u001b[0m\u001b[0;34m,\u001b[0m \u001b[0msubok\u001b[0m\u001b[0;34m=\u001b[0m\u001b[0;32mTrue\u001b[0m\u001b[0;34m)\u001b[0m\u001b[0;34m\u001b[0m\u001b[0;34m\u001b[0m\u001b[0m\n\u001b[0m\u001b[1;32m    137\u001b[0m \u001b[0;34m\u001b[0m\u001b[0m\n\u001b[1;32m    138\u001b[0m \u001b[0;34m\u001b[0m\u001b[0m\n",
      "\u001b[0;31mValueError\u001b[0m: setting an array element with a sequence."
     ]
    },
    {
     "data": {
      "image/png": "[encoded data removed]",
      "text/plain": [
       "<Figure size 432x288 with 1 Axes>"
      ]
     },
     "metadata": {
      "needs_background": "light"
     },
     "output_type": "display_data"
    }
   ],
   "source": [
    "display_cluster(vectorized_text, km, num_clusters)"
   ]
  },
  {
   "cell_type": "code",
   "execution_count": null,
   "metadata": {},
   "outputs": [],
   "source": []
  },
  {
   "cell_type": "code",
   "execution_count": null,
   "metadata": {},
   "outputs": [],
   "source": []
  }
 ],
 "metadata": {
  "kernelspec": {
   "display_name": "Python 3",
   "language": "python",
   "name": "python3"
  },
  "language_info": {
   "codemirror_mode": {
    "name": "ipython",
    "version": 3
   },
   "file_extension": ".py",
   "mimetype": "text/x-python",
   "name": "python",
   "nbconvert_exporter": "python",
   "pygments_lexer": "ipython3",
   "version": "3.7.7"
  }
 },
 "nbformat": 4,
 "nbformat_minor": 4
}
